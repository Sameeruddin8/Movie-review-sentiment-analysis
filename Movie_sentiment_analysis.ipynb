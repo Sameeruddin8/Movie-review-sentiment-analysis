{
 "cells": [
  {
   "cell_type": "code",
   "execution_count": 1,
   "id": "c4f2ab64",
   "metadata": {
    "id": "c4f2ab64"
   },
   "outputs": [
    {
     "name": "stderr",
     "output_type": "stream",
     "text": [
      "The syntax of the command is incorrect.\n",
      "'cp' is not recognized as an internal or external command,\n",
      "operable program or batch file.\n",
      "'chmod' is not recognized as an internal or external command,\n",
      "operable program or batch file.\n"
     ]
    }
   ],
   "source": [
    "!mkdir -p ~/.kaggle\n",
    "!cp kaggle.json ~/.kaggle/\n",
    "!chmod 600 ~/.kaggle/kaggle.json"
   ]
  },
  {
   "cell_type": "code",
   "execution_count": 2,
   "id": "619b41af",
   "metadata": {
    "colab": {
     "base_uri": "https://localhost:8080/"
    },
    "id": "619b41af",
    "outputId": "c5d15e22-1873-4af3-beec-7fef57746818"
   },
   "outputs": [
    {
     "name": "stdout",
     "output_type": "stream",
     "text": [
      "Downloading imdb-movie-ratings-sentiment-analysis.zip to D:\\ML Projects\\Movie review Sentiment\n",
      "\n"
     ]
    },
    {
     "name": "stderr",
     "output_type": "stream",
     "text": [
      "\n",
      "  0%|          | 0.00/20.6M [00:00<?, ?B/s]\n",
      "  5%|4         | 1.00M/20.6M [00:01<00:23, 872kB/s]\n",
      " 10%|9         | 2.00M/20.6M [00:01<00:11, 1.73MB/s]\n",
      " 19%|#9        | 4.00M/20.6M [00:01<00:04, 3.68MB/s]\n",
      " 24%|##4       | 5.00M/20.6M [00:01<00:03, 4.28MB/s]\n",
      " 34%|###4      | 7.00M/20.6M [00:01<00:02, 6.16MB/s]\n",
      " 44%|####3     | 9.00M/20.6M [00:02<00:01, 8.05MB/s]\n",
      " 54%|#####3    | 11.0M/20.6M [00:02<00:01, 8.75MB/s]\n",
      " 63%|######3   | 13.0M/20.6M [00:02<00:00, 9.46MB/s]\n",
      " 73%|#######2  | 15.0M/20.6M [00:02<00:00, 9.65MB/s]\n",
      " 83%|########2 | 17.0M/20.6M [00:02<00:00, 10.3MB/s]\n",
      " 92%|#########2| 19.0M/20.6M [00:03<00:00, 10.1MB/s]\n",
      "100%|##########| 20.6M/20.6M [00:03<00:00, 10.2MB/s]\n",
      "100%|##########| 20.6M/20.6M [00:03<00:00, 6.75MB/s]\n"
     ]
    }
   ],
   "source": [
    "!kaggle datasets download -d yasserh/imdb-movie-ratings-sentiment-analysis"
   ]
  },
  {
   "cell_type": "code",
   "execution_count": 3,
   "id": "51806e53",
   "metadata": {
    "colab": {
     "base_uri": "https://localhost:8080/"
    },
    "id": "51806e53",
    "outputId": "535427e2-c97e-4fd2-af49-7de7a8a5e977",
    "scrolled": true
   },
   "outputs": [
    {
     "name": "stdout",
     "output_type": "stream",
     "text": [
      "the dataset is extracted\n"
     ]
    }
   ],
   "source": [
    "from zipfile import ZipFile\n",
    "dataset = 'imdb-movie-ratings-sentiment-analysis.zip'\n",
    "with ZipFile(dataset, 'r') as zip:\n",
    "    zip.extractall()\n",
    "    print(\"the dataset is extracted\")"
   ]
  },
  {
   "cell_type": "code",
   "execution_count": 1,
   "id": "7363e3ca",
   "metadata": {
    "colab": {
     "base_uri": "https://localhost:8080/"
    },
    "id": "7363e3ca",
    "outputId": "17abd57b-66db-4d43-d5a6-5cec7e3bb6fe"
   },
   "outputs": [
    {
     "name": "stderr",
     "output_type": "stream",
     "text": [
      "[nltk_data] Downloading package stopwords to\n",
      "[nltk_data]     C:\\Users\\admin\\AppData\\Roaming\\nltk_data...\n",
      "[nltk_data]   Package stopwords is already up-to-date!\n"
     ]
    },
    {
     "data": {
      "text/plain": [
       "True"
      ]
     },
     "execution_count": 1,
     "metadata": {},
     "output_type": "execute_result"
    }
   ],
   "source": [
    "import pandas as pd\n",
    "import numpy as np\n",
    "import matplotlib.pyplot as plt\n",
    "import nltk\n",
    "from nltk.corpus import stopwords\n",
    "import string\n",
    "from nltk.stem.porter import PorterStemmer\n",
    "nltk.download('stopwords')"
   ]
  },
  {
   "cell_type": "code",
   "execution_count": 2,
   "id": "8c9547d9",
   "metadata": {
    "id": "8c9547d9"
   },
   "outputs": [],
   "source": [
    "data = pd.read_csv('movie.csv')"
   ]
  },
  {
   "cell_type": "code",
   "execution_count": 3,
   "id": "059d912b",
   "metadata": {
    "colab": {
     "base_uri": "https://localhost:8080/",
     "height": 206
    },
    "id": "059d912b",
    "outputId": "2e97b108-1388-4f6e-a7c6-6f884770e669"
   },
   "outputs": [
    {
     "data": {
      "text/html": [
       "<div>\n",
       "<style scoped>\n",
       "    .dataframe tbody tr th:only-of-type {\n",
       "        vertical-align: middle;\n",
       "    }\n",
       "\n",
       "    .dataframe tbody tr th {\n",
       "        vertical-align: top;\n",
       "    }\n",
       "\n",
       "    .dataframe thead th {\n",
       "        text-align: right;\n",
       "    }\n",
       "</style>\n",
       "<table border=\"1\" class=\"dataframe\">\n",
       "  <thead>\n",
       "    <tr style=\"text-align: right;\">\n",
       "      <th></th>\n",
       "      <th>text</th>\n",
       "      <th>label</th>\n",
       "    </tr>\n",
       "  </thead>\n",
       "  <tbody>\n",
       "    <tr>\n",
       "      <th>0</th>\n",
       "      <td>I grew up (b. 1965) watching and loving the Th...</td>\n",
       "      <td>0</td>\n",
       "    </tr>\n",
       "    <tr>\n",
       "      <th>1</th>\n",
       "      <td>When I put this movie in my DVD player, and sa...</td>\n",
       "      <td>0</td>\n",
       "    </tr>\n",
       "    <tr>\n",
       "      <th>2</th>\n",
       "      <td>Why do people who do not know what a particula...</td>\n",
       "      <td>0</td>\n",
       "    </tr>\n",
       "    <tr>\n",
       "      <th>3</th>\n",
       "      <td>Even though I have great interest in Biblical ...</td>\n",
       "      <td>0</td>\n",
       "    </tr>\n",
       "    <tr>\n",
       "      <th>4</th>\n",
       "      <td>Im a die hard Dads Army fan and nothing will e...</td>\n",
       "      <td>1</td>\n",
       "    </tr>\n",
       "  </tbody>\n",
       "</table>\n",
       "</div>"
      ],
      "text/plain": [
       "                                                text  label\n",
       "0  I grew up (b. 1965) watching and loving the Th...      0\n",
       "1  When I put this movie in my DVD player, and sa...      0\n",
       "2  Why do people who do not know what a particula...      0\n",
       "3  Even though I have great interest in Biblical ...      0\n",
       "4  Im a die hard Dads Army fan and nothing will e...      1"
      ]
     },
     "execution_count": 3,
     "metadata": {},
     "output_type": "execute_result"
    }
   ],
   "source": [
    "data.head()"
   ]
  },
  {
   "cell_type": "code",
   "execution_count": 4,
   "id": "efdd8207",
   "metadata": {
    "id": "efdd8207"
   },
   "outputs": [],
   "source": [
    "#1= good, 0 = bad"
   ]
  },
  {
   "cell_type": "code",
   "execution_count": 5,
   "id": "27341af3",
   "metadata": {
    "colab": {
     "base_uri": "https://localhost:8080/"
    },
    "id": "27341af3",
    "outputId": "1c96b5bc-73d7-4528-da5f-a583a6ceaffd"
   },
   "outputs": [
    {
     "data": {
      "text/plain": [
       "text     0\n",
       "label    0\n",
       "dtype: int64"
      ]
     },
     "execution_count": 5,
     "metadata": {},
     "output_type": "execute_result"
    }
   ],
   "source": [
    "data.isnull().sum()"
   ]
  },
  {
   "cell_type": "code",
   "execution_count": 6,
   "id": "126d870d",
   "metadata": {
    "colab": {
     "base_uri": "https://localhost:8080/"
    },
    "id": "126d870d",
    "outputId": "dfd5b797-413e-4ce0-ca31-82c69e66f91a"
   },
   "outputs": [
    {
     "data": {
      "text/plain": [
       "277"
      ]
     },
     "execution_count": 6,
     "metadata": {},
     "output_type": "execute_result"
    }
   ],
   "source": [
    "data.duplicated().sum()"
   ]
  },
  {
   "cell_type": "code",
   "execution_count": 7,
   "id": "202e1c4e",
   "metadata": {
    "id": "202e1c4e"
   },
   "outputs": [],
   "source": [
    "data.drop_duplicates(inplace = True)"
   ]
  },
  {
   "cell_type": "code",
   "execution_count": 8,
   "id": "fcdbefb8",
   "metadata": {
    "colab": {
     "base_uri": "https://localhost:8080/"
    },
    "id": "fcdbefb8",
    "outputId": "f06bf08c-a190-44e6-a92d-c93302c2db2d"
   },
   "outputs": [
    {
     "data": {
      "text/plain": [
       "0"
      ]
     },
     "execution_count": 8,
     "metadata": {},
     "output_type": "execute_result"
    }
   ],
   "source": [
    "data.duplicated().sum()"
   ]
  },
  {
   "cell_type": "code",
   "execution_count": 9,
   "id": "5578d1be",
   "metadata": {
    "colab": {
     "base_uri": "https://localhost:8080/"
    },
    "id": "5578d1be",
    "outputId": "3772ed86-e33d-4cc0-996e-35cb18af3ece"
   },
   "outputs": [
    {
     "data": {
      "text/plain": [
       "(39723, 2)"
      ]
     },
     "execution_count": 9,
     "metadata": {},
     "output_type": "execute_result"
    }
   ],
   "source": [
    "data.shape"
   ]
  },
  {
   "cell_type": "code",
   "execution_count": 10,
   "id": "e0a0f88a",
   "metadata": {
    "colab": {
     "base_uri": "https://localhost:8080/"
    },
    "id": "e0a0f88a",
    "outputId": "5402b5c1-d889-4dff-f873-36e2b75157ec"
   },
   "outputs": [
    {
     "data": {
      "text/plain": [
       "1    19908\n",
       "0    19815\n",
       "Name: label, dtype: int64"
      ]
     },
     "execution_count": 10,
     "metadata": {},
     "output_type": "execute_result"
    }
   ],
   "source": [
    "data['label'].value_counts()"
   ]
  },
  {
   "cell_type": "code",
   "execution_count": 11,
   "id": "40c8f590",
   "metadata": {
    "colab": {
     "base_uri": "https://localhost:8080/",
     "height": 406
    },
    "id": "40c8f590",
    "outputId": "6c6b6bb2-31a4-417e-e368-aa6c7905759c"
   },
   "outputs": [
    {
     "data": {
      "image/png": "[encoded data removed]",
      "text/plain": [
       "<Figure size 640x480 with 1 Axes>"
      ]
     },
     "metadata": {},
     "output_type": "display_data"
    }
   ],
   "source": [
    "plt.pie(data['label'].value_counts(), labels=['good', 'bad'], autopct=\"%0.2f\")\n",
    "plt.show()"
   ]
  },
  {
   "cell_type": "code",
   "execution_count": 12,
   "id": "g53KLba1cRfs",
   "metadata": {
    "colab": {
     "base_uri": "https://localhost:8080/"
    },
    "id": "g53KLba1cRfs",
    "outputId": "b0271ee5-151a-4b25-a155-0300af167a0c"
   },
   "outputs": [
    {
     "name": "stderr",
     "output_type": "stream",
     "text": [
      "[nltk_data] Downloading package punkt to\n",
      "[nltk_data]     C:\\Users\\admin\\AppData\\Roaming\\nltk_data...\n",
      "[nltk_data]   Package punkt is already up-to-date!\n"
     ]
    },
    {
     "data": {
      "text/plain": [
       "True"
      ]
     },
     "execution_count": 12,
     "metadata": {},
     "output_type": "execute_result"
    }
   ],
   "source": [
    "nltk.download('punkt')"
   ]
  },
  {
   "cell_type": "code",
   "execution_count": 13,
   "id": "18c23772",
   "metadata": {
    "id": "18c23772"
   },
   "outputs": [],
   "source": [
    "ps = PorterStemmer()"
   ]
  },
  {
   "cell_type": "code",
   "execution_count": 14,
   "id": "26c06f5e",
   "metadata": {
    "id": "26c06f5e"
   },
   "outputs": [],
   "source": [
    "def preprocess(text):\n",
    "    text = text.lower()\n",
    "    text = nltk.word_tokenize(text)\n",
    "    y=[]\n",
    "    for i in text:\n",
    "        if i not in stopwords.words('english') and i not in string.punctuation:\n",
    "            y.append(i)\n",
    "    text = y[:]\n",
    "    y.clear()\n",
    "    \n",
    "    for i in text:\n",
    "        y.append(ps.stem(i))\n",
    "    return \" \".join(y)\n",
    "    \n",
    "            "
   ]
  },
  {
   "cell_type": "code",
   "execution_count": 15,
   "id": "660a1a48",
   "metadata": {
    "colab": {
     "base_uri": "https://localhost:8080/",
     "height": 35
    },
    "id": "660a1a48",
    "outputId": "1f932c2b-f989-41e7-978c-1e58e0913581"
   },
   "outputs": [
    {
     "data": {
      "text/plain": [
       "'hiii hiii ddjk danc'"
      ]
     },
     "execution_count": 15,
     "metadata": {},
     "output_type": "execute_result"
    }
   ],
   "source": [
    "\n",
    "preprocess(\"HIII HIII and the ddjk dancing \")"
   ]
  },
  {
   "cell_type": "code",
   "execution_count": 16,
   "id": "ca245eb1",
   "metadata": {
    "id": "ca245eb1"
   },
   "outputs": [],
   "source": [
    "data['text'] = data['text'].apply(preprocess)"
   ]
  },
  {
   "cell_type": "code",
   "execution_count": 17,
   "id": "0f1e69ee",
   "metadata": {
    "colab": {
     "base_uri": "https://localhost:8080/",
     "height": 206
    },
    "id": "0f1e69ee",
    "outputId": "7bfaee5f-d375-43a7-e253-fdeea3eea1f6"
   },
   "outputs": [
    {
     "data": {
      "text/html": [
       "<div>\n",
       "<style scoped>\n",
       "    .dataframe tbody tr th:only-of-type {\n",
       "        vertical-align: middle;\n",
       "    }\n",
       "\n",
       "    .dataframe tbody tr th {\n",
       "        vertical-align: top;\n",
       "    }\n",
       "\n",
       "    .dataframe thead th {\n",
       "        text-align: right;\n",
       "    }\n",
       "</style>\n",
       "<table border=\"1\" class=\"dataframe\">\n",
       "  <thead>\n",
       "    <tr style=\"text-align: right;\">\n",
       "      <th></th>\n",
       "      <th>text</th>\n",
       "      <th>label</th>\n",
       "    </tr>\n",
       "  </thead>\n",
       "  <tbody>\n",
       "    <tr>\n",
       "      <th>0</th>\n",
       "      <td>grew b 1965 watch love thunderbird mate school...</td>\n",
       "      <td>0</td>\n",
       "    </tr>\n",
       "    <tr>\n",
       "      <th>1</th>\n",
       "      <td>put movi dvd player sat coke chip expect hope ...</td>\n",
       "      <td>0</td>\n",
       "    </tr>\n",
       "    <tr>\n",
       "      <th>2</th>\n",
       "      <td>peopl know particular time past like feel need...</td>\n",
       "      <td>0</td>\n",
       "    </tr>\n",
       "    <tr>\n",
       "      <th>3</th>\n",
       "      <td>even though great interest biblic movi bore de...</td>\n",
       "      <td>0</td>\n",
       "    </tr>\n",
       "    <tr>\n",
       "      <th>4</th>\n",
       "      <td>im die hard dad armi fan noth ever chang got t...</td>\n",
       "      <td>1</td>\n",
       "    </tr>\n",
       "  </tbody>\n",
       "</table>\n",
       "</div>"
      ],
      "text/plain": [
       "                                                text  label\n",
       "0  grew b 1965 watch love thunderbird mate school...      0\n",
       "1  put movi dvd player sat coke chip expect hope ...      0\n",
       "2  peopl know particular time past like feel need...      0\n",
       "3  even though great interest biblic movi bore de...      0\n",
       "4  im die hard dad armi fan noth ever chang got t...      1"
      ]
     },
     "execution_count": 17,
     "metadata": {},
     "output_type": "execute_result"
    }
   ],
   "source": [
    "data.head()"
   ]
  },
  {
   "cell_type": "code",
   "execution_count": 97,
   "id": "a782c566",
   "metadata": {},
   "outputs": [],
   "source": [
    "data.to_csv('processed_movie.csv')"
   ]
  },
  {
   "cell_type": "code",
   "execution_count": 18,
   "id": "YnBtNkpu44Xf",
   "metadata": {
    "colab": {
     "base_uri": "https://localhost:8080/"
    },
    "id": "YnBtNkpu44Xf",
    "outputId": "b0f2d64c-b903-450b-e6f6-47cb43c9d480"
   },
   "outputs": [
    {
     "data": {
      "text/plain": [
       "array([0, 0, 0, ..., 0, 1, 1], dtype=int64)"
      ]
     },
     "execution_count": 18,
     "metadata": {},
     "output_type": "execute_result"
    }
   ],
   "source": [
    "data['label'].values"
   ]
  },
  {
   "cell_type": "code",
   "execution_count": 19,
   "id": "07e15b5a",
   "metadata": {
    "id": "07e15b5a"
   },
   "outputs": [],
   "source": [
    "from tensorflow.keras.layers import TextVectorization\n",
    "import tensorflow as tf\n"
   ]
  },
  {
   "cell_type": "code",
   "execution_count": 20,
   "id": "RDJuG8El27Hm",
   "metadata": {
    "id": "RDJuG8El27Hm"
   },
   "outputs": [],
   "source": [
    "X = data['text']\n",
    "y = data['label'].values"
   ]
  },
  {
   "cell_type": "code",
   "execution_count": 21,
   "id": "IKyOGcHg3H6A",
   "metadata": {
    "id": "IKyOGcHg3H6A"
   },
   "outputs": [],
   "source": [
    "vectorizer = TextVectorization(max_tokens = 100000,\n",
    "                               output_sequence_length = 1500,\n",
    "                               output_mode = 'int')"
   ]
  },
  {
   "cell_type": "code",
   "execution_count": 22,
   "id": "GVkwDiXb3k_Z",
   "metadata": {
    "id": "GVkwDiXb3k_Z"
   },
   "outputs": [],
   "source": [
    "vectorizer.adapt(X.values)"
   ]
  },
  {
   "cell_type": "code",
   "execution_count": 23,
   "id": "pIYvKTse3rMg",
   "metadata": {
    "colab": {
     "base_uri": "https://localhost:8080/"
    },
    "id": "pIYvKTse3rMg",
    "outputId": "1c58d93b-10a5-464b-9e9a-da23f0593796"
   },
   "outputs": [
    {
     "data": {
      "text/plain": [
       "<tf.Tensor: shape=(1500,), dtype=int64, numpy=array([3886,    0,    0, ...,    0,    0,    0], dtype=int64)>"
      ]
     },
     "execution_count": 23,
     "metadata": {},
     "output_type": "execute_result"
    }
   ],
   "source": [
    "vectorizer('Hello')"
   ]
  },
  {
   "cell_type": "code",
   "execution_count": 24,
   "id": "4Ylpc_ti33pq",
   "metadata": {
    "id": "4Ylpc_ti33pq"
   },
   "outputs": [],
   "source": [
    "X = vectorizer(X.values)"
   ]
  },
  {
   "cell_type": "code",
   "execution_count": 25,
   "id": "D6-SlzJK4HDN",
   "metadata": {
    "id": "D6-SlzJK4HDN"
   },
   "outputs": [],
   "source": [
    "#pipeline\n",
    "dataset = tf.data.Dataset.from_tensor_slices((X, y))\n",
    "dataset = dataset.cache()\n",
    "dataset = dataset.shuffle(160000)\n",
    "dataset = dataset.batch(16)\n",
    "dataset = dataset.prefetch(8)"
   ]
  },
  {
   "cell_type": "code",
   "execution_count": 26,
   "id": "9ZK7Ren44WJw",
   "metadata": {
    "id": "9ZK7Ren44WJw"
   },
   "outputs": [],
   "source": [
    "batch_X, batch_y = dataset.as_numpy_iterator().next()"
   ]
  },
  {
   "cell_type": "code",
   "execution_count": 27,
   "id": "sJsvRX694haA",
   "metadata": {
    "colab": {
     "base_uri": "https://localhost:8080/"
    },
    "id": "sJsvRX694haA",
    "outputId": "6a4ce82f-12da-4fdf-f538-a65a0ea35a65"
   },
   "outputs": [
    {
     "data": {
      "text/plain": [
       "((16, 1500), (16,))"
      ]
     },
     "execution_count": 27,
     "metadata": {},
     "output_type": "execute_result"
    }
   ],
   "source": [
    "batch_X.shape, batch_y.shape"
   ]
  },
  {
   "cell_type": "code",
   "execution_count": 28,
   "id": "Byp_uEqz4k4T",
   "metadata": {
    "id": "Byp_uEqz4k4T"
   },
   "outputs": [],
   "source": [
    "train = dataset.take(int(len(dataset)*0.7))\n",
    "val = dataset.skip(int(len(dataset)*0.7)).take(int(len(dataset)*0.2))\n",
    "test = dataset.skip(int(len(dataset)*0.9)).take(int(len(dataset)*0.1))"
   ]
  },
  {
   "cell_type": "code",
   "execution_count": 29,
   "id": "mN9J79G25OZx",
   "metadata": {
    "id": "mN9J79G25OZx"
   },
   "outputs": [],
   "source": [
    "from tensorflow.keras.models import Sequential\n",
    "from tensorflow.keras.layers import Dense, Embedding, Bidirectional, LSTM, Dropout"
   ]
  },
  {
   "cell_type": "code",
   "execution_count": 30,
   "id": "lCDOwGB05Y9B",
   "metadata": {
    "id": "lCDOwGB05Y9B"
   },
   "outputs": [],
   "source": [
    "model = Sequential()\n",
    "model.add(Embedding(100000+1, 32)) # this will create embedding like word2vec max_features+1 = columns, 32 will be features(rows)which will be created according to the rows(vacabulary)\n",
    "model.add(Bidirectional(LSTM(32, activation='tanh')))\n",
    "model.add(Dense(128, activation='relu'))\n",
    "model.add(Dense(256, activation='relu'))\n",
    "model.add(Dense(128, activation='relu'))\n",
    "    #last is O/p layer\n",
    "model.add(Dense(1, activation='sigmoid')) #units are 1 because final o/p contains 1 choices\n"
   ]
  },
  {
   "cell_type": "code",
   "execution_count": 31,
   "id": "gEd1gCIP5gWA",
   "metadata": {
    "id": "gEd1gCIP5gWA"
   },
   "outputs": [],
   "source": [
    "model.compile(loss = 'BinaryCrossentropy', optimizer = 'adam')"
   ]
  },
  {
   "cell_type": "code",
   "execution_count": 32,
   "id": "XP4lV-N15mj9",
   "metadata": {
    "colab": {
     "base_uri": "https://localhost:8080/"
    },
    "id": "XP4lV-N15mj9",
    "outputId": "3a75aa35-caf0-4ed0-9ac7-a92cacb8e360"
   },
   "outputs": [
    {
     "name": "stdout",
     "output_type": "stream",
     "text": [
      "Epoch 1/7\n",
      "1738/1738 [==============================] - 1290s 738ms/step - loss: 0.3857 - val_loss: 0.2063\n",
      "Epoch 2/7\n",
      "1738/1738 [==============================] - 1263s 727ms/step - loss: 0.2278 - val_loss: 0.1643\n",
      "Epoch 3/7\n",
      "1738/1738 [==============================] - 1214s 698ms/step - loss: 0.1797 - val_loss: 0.1430\n",
      "Epoch 4/7\n",
      "1738/1738 [==============================] - 1193s 686ms/step - loss: 0.1743 - val_loss: 0.6400\n",
      "Epoch 5/7\n",
      "1738/1738 [==============================] - 1197s 689ms/step - loss: 0.1671 - val_loss: 0.0805\n",
      "Epoch 6/7\n",
      "1738/1738 [==============================] - 1197s 689ms/step - loss: 0.1075 - val_loss: 0.0706\n",
      "Epoch 7/7\n",
      "1738/1738 [==============================] - 1293s 744ms/step - loss: 0.0734 - val_loss: 0.0507\n"
     ]
    },
    {
     "data": {
      "text/plain": [
       "<keras.callbacks.History at 0x285f5ef8400>"
      ]
     },
     "execution_count": 32,
     "metadata": {},
     "output_type": "execute_result"
    }
   ],
   "source": [
    "model.fit(train, epochs=7, validation_data=val)"
   ]
  },
  {
   "cell_type": "code",
   "execution_count": 33,
   "id": "IRDf5GjsDi-g",
   "metadata": {
    "id": "IRDf5GjsDi-g"
   },
   "outputs": [],
   "source": [
    "input = vectorizer('The 5 years was worth the wait. Amazing animation, beautiful characters with rich backstories, the fights are amazing, Gwens story is amazing, EVERYTHING IS AMAZING! This entire movie is gorgeous and keeps you hooked and almost forces you to continue watching, thats how amazing it is. The hype around this movie was 100% deserved and made sense, seeing as how this movie may be the greatest film I have ever seen.')"
   ]
  },
  {
   "cell_type": "code",
   "execution_count": 34,
   "id": "2xkfvkRm5pbj",
   "metadata": {
    "colab": {
     "base_uri": "https://localhost:8080/"
    },
    "id": "2xkfvkRm5pbj",
    "outputId": "5e10991f-0236-4468-cc38-cd3e3c09293a"
   },
   "outputs": [
    {
     "name": "stdout",
     "output_type": "stream",
     "text": [
      "1/1 [==============================] - 1s 951ms/step\n"
     ]
    }
   ],
   "source": [
    "res = model.predict(np.expand_dims(input, 0))"
   ]
  },
  {
   "cell_type": "code",
   "execution_count": 35,
   "id": "rpZTjSUfBTDV",
   "metadata": {
    "colab": {
     "base_uri": "https://localhost:8080/"
    },
    "id": "rpZTjSUfBTDV",
    "outputId": "3b0a3917-23ed-44cc-86df-1c18f61d1342"
   },
   "outputs": [
    {
     "name": "stdout",
     "output_type": "stream",
     "text": [
      "[[0.9987258]]\n"
     ]
    }
   ],
   "source": [
    "\n",
    "print(res)"
   ]
  },
  {
   "cell_type": "code",
   "execution_count": 36,
   "id": "usQUdVsHBlVC",
   "metadata": {
    "colab": {
     "base_uri": "https://localhost:8080/"
    },
    "id": "usQUdVsHBlVC",
    "outputId": "7ba0930b-c45c-4056-8524-45f6b2474cff"
   },
   "outputs": [
    {
     "name": "stdout",
     "output_type": "stream",
     "text": [
      "posit\n"
     ]
    }
   ],
   "source": [
    "if res>0.5:\n",
    "    print('posit')\n",
    "else:\n",
    "    print('neg')"
   ]
  },
  {
   "cell_type": "markdown",
   "id": "3fe24a19",
   "metadata": {
    "id": "vjjNQmNGETGP"
   },
   "source": [
    "# Saving The Model!"
   ]
  },
  {
   "cell_type": "code",
   "execution_count": 83,
   "id": "f1edd882",
   "metadata": {},
   "outputs": [],
   "source": [
    "from tensorflow.keras.models import load_model\n",
    "import os"
   ]
  },
  {
   "cell_type": "code",
   "execution_count": 39,
   "id": "ce91aa4c",
   "metadata": {},
   "outputs": [],
   "source": [
    "model.save(os.path.join('Model', 'MovieSentiment.h5'))"
   ]
  },
  {
   "cell_type": "markdown",
   "id": "93058c89",
   "metadata": {},
   "source": [
    "# To Reload The Model"
   ]
  },
  {
   "cell_type": "code",
   "execution_count": 40,
   "id": "6b5f6703",
   "metadata": {},
   "outputs": [],
   "source": [
    "new_model = load_model(os.path.join('Model', 'MovieSentiment.h5'))"
   ]
  },
  {
   "cell_type": "code",
   "execution_count": 72,
   "id": "a9ff0e0c",
   "metadata": {},
   "outputs": [],
   "source": [
    "input = preprocess('Perfect')\n",
    "text = vectorizer(input)"
   ]
  },
  {
   "cell_type": "code",
   "execution_count": 73,
   "id": "1837f425",
   "metadata": {},
   "outputs": [
    {
     "name": "stdout",
     "output_type": "stream",
     "text": [
      "1/1 [==============================] - 0s 65ms/step\n"
     ]
    },
    {
     "data": {
      "text/plain": [
       "array([[0.9633324]], dtype=float32)"
      ]
     },
     "execution_count": 73,
     "metadata": {},
     "output_type": "execute_result"
    }
   ],
   "source": [
    "output = new_model.predict(np.expand_dims(text, 0))\n",
    "output"
   ]
  },
  {
   "cell_type": "code",
   "execution_count": 74,
   "id": "6b1fd0a9",
   "metadata": {},
   "outputs": [
    {
     "name": "stdout",
     "output_type": "stream",
     "text": [
      "Positive\n",
      "Negative\n"
     ]
    }
   ],
   "source": [
    "if output > 0.7:\n",
    "    print(\"Positive\")\n",
    "if output <0.7 and output > 0.4:\n",
    "    print('Average')\n",
    "else:\n",
    "    print(\"Negative\")"
   ]
  }
 ],
 "metadata": {
  "accelerator": "GPU",
  "colab": {
   "gpuType": "T4",
   "provenance": []
  },
  "kernelspec": {
   "display_name": "Python 3 (ipykernel)",
   "language": "python",
   "name": "python3"
  },
  "language_info": {
   "codemirror_mode": {
    "name": "ipython",
    "version": 3
   },
   "file_extension": ".py",
   "mimetype": "text/x-python",
   "name": "python",
   "nbconvert_exporter": "python",
   "pygments_lexer": "ipython3",
   "version": "3.9.13"
  }
 },
 "nbformat": 4,
 "nbformat_minor": 5
}
